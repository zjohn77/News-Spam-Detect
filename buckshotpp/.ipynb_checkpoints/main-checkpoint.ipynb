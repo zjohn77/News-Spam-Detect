{
 "cells": [
  {
   "cell_type": "markdown",
   "metadata": {},
   "source": [
    "### Buckshot++: A Scalable, Noise-Tolerant Bagging Approach to  Clustering.  \n",
    "Despite the k-means algorithm being one of the most important unsupervised learning methods today, the Achilles' heel of this algorithm is the need to determine beforehand the number of clusters. A common way to find K is like this: take some metric, evaluate at multiple values of K, and let some greedy search determine when to stop (typically elbow heuristic). Here, I show a better way. I introduce 3 improvements:   \n",
    "1. I show that some metrics are powerful, while others are too inconsistent to be useful\n",
    "2. A big problem with k-means is that every single point is clustered--but what we really want is the pattern and not the noise. I show a beautiful way to solve this problem--and much simpler than k-medoids and k-medians to boot. \n",
    "3. Running k-means multiple times to find the best K is expensive in computation time, and just doesn't scale. I show a surprisingly simple alternative that *does* scale. "
   ]
  },
  {
   "cell_type": "code",
   "execution_count": 1,
   "metadata": {
    "collapsed": true
   },
   "outputs": [
    {
     "data": {
      "text/plain": [
       "'A Scalable, Noise-Tolerant Bagging approach to the Buckshot Algorithm.\\nReference to the original buckshot algorithm (https://pdfs.semanticscholar.org/1134/3448f8a817fa391e3a7897a95f975ad2873a.pdf)\\nAuthor: John Jung'"
      ]
     },
     "execution_count": 1,
     "metadata": {},
     "output_type": "execute_result"
    }
   ],
   "source": [
    "'''A Scalable, Noise-Tolerant Bagging approach to the Buckshot Algorithm.\n",
    "Reference to the original buckshot algorithm (https://pdfs.semanticscholar.org/1134/3448f8a817fa391e3a7897a95f975ad2873a.pdf)\n",
    "Author: John Jung'''"
   ]
  },
  {
   "cell_type": "code",
   "execution_count": 2,
   "metadata": {
    "collapsed": true
   },
   "outputs": [
    {
     "ename": "ModuleNotFoundError",
     "evalue": "No module named 'baggedBuckshot'",
     "output_type": "error",
     "traceback": [
      "\u001b[0;31m---------------------------------------------------------------------------\u001b[0m",
      "\u001b[0;31mModuleNotFoundError\u001b[0m                       Traceback (most recent call last)",
      "\u001b[0;32m<ipython-input-2-b225a3b19ed5>\u001b[0m in \u001b[0;36m<module>\u001b[0;34m()\u001b[0m\n\u001b[1;32m      7\u001b[0m \u001b[0;32mimport\u001b[0m \u001b[0mos\u001b[0m\u001b[0;34m,\u001b[0m \u001b[0msys\u001b[0m\u001b[0;34m\u001b[0m\u001b[0m\n\u001b[1;32m      8\u001b[0m \u001b[0msys\u001b[0m\u001b[0;34m.\u001b[0m\u001b[0mpath\u001b[0m\u001b[0;34m.\u001b[0m\u001b[0minsert\u001b[0m\u001b[0;34m(\u001b[0m\u001b[0;36m0\u001b[0m\u001b[0;34m,\u001b[0m \u001b[0;34m'/home/jz/proj/News-Spam-Detect/TxtClus'\u001b[0m\u001b[0;34m)\u001b[0m\u001b[0;34m\u001b[0m\u001b[0m\n\u001b[0;32m----> 9\u001b[0;31m \u001b[0;32mfrom\u001b[0m \u001b[0mbaggedBuckshot\u001b[0m \u001b[0;32mimport\u001b[0m \u001b[0mClusterings\u001b[0m\u001b[0;34m\u001b[0m\u001b[0m\n\u001b[0m",
      "\u001b[0;31mModuleNotFoundError\u001b[0m: No module named 'baggedBuckshot'"
     ]
    }
   ],
   "source": [
    "from numpy.random import choice\n",
    "from pandas import read_csv, DataFrame\n",
    "from sklearn.cluster import KMeans\n",
    "from sklearn.metrics import adjusted_mutual_info_score\n",
    "import matplotlib.pyplot as plt\n",
    "from functools import reduce\n",
    "import os, sys\n",
    "# sys.path.insert(0, '/home/jz/proj/News-Spam-Detect/TxtClus')\n",
    "from buckshotpp import Clusterings"
   ]
  },
  {
   "cell_type": "code",
   "execution_count": null,
   "metadata": {
    "collapsed": false
   },
   "outputs": [],
   "source": [
    "def plot_mult_samples(listOf_df, row_name):     \n",
    "    '''For each bootstrap iteration, plot metrics across K''' \n",
    "    for i in range(len(listOf_df)):\n",
    "        plt.plot(list(listOf_df[i].columns), list(listOf_df[i].loc[row_name,:]), c=\"green\")  \n",
    "    \n",
    "    # Use the reduce function to do elementwise average for several data frames:\n",
    "    avg_metrics = reduce(lambda df1, df2: df1.add(df2), listOf_df).div(len(listOf_df))        \n",
    "    plt.plot(list(avg_metrics.columns), list(avg_metrics.loc[row_name,:]), c=\"red\")    \n",
    "    plt.ylabel(row_name + ' score')   \n",
    "    plt.xlabel('no. of clusters')        \n",
    "    plt.show()            "
   ]
  },
  {
   "cell_type": "markdown",
   "metadata": {},
   "source": [
    "#### Background\n",
    "The novel algorithm that I will explain here, which hereinafter I will call Buckshot++, is motivated by the [Pedersen et al.](https://pdfs.semanticscholar.org/1134/3448f8a817fa391e3a7897a95f975ad2873a.pdf) paper. The essence of the Buckshot algorithm outline in that paper is to find cluster centers by performing hierarchical clustering on a sample and then perform k-means by taking those cluster centers as input. Table 1 below explains why the Buckshot algorithm takes this approach:"
   ]
  },
  {
   "cell_type": "code",
   "execution_count": null,
   "metadata": {
    "collapsed": false
   },
   "outputs": [],
   "source": [
    "print('Table 1')\n",
    "tbl = DataFrame({'k-means': ['O(N * k * d * i)', 'random initial means; local minimum; outlier'],\n",
    "                 'hierarchical': ['O(N^2 * logN)', 'outlier']}\n",
    "                , index=['Computational Complexity', 'Sources of Instability'])\n",
    "tbl"
   ]
  },
  {
   "cell_type": "markdown",
   "metadata": {},
   "source": [
    "The shockingly high time complexity of hierarchical clustering is why the Buckshot algorithm performs hierarchical only on a sample. Let's look at what Buckshot++ is and how it simultaneously tackles scalability and stability issues.  "
   ]
  },
  {
   "cell_type": "markdown",
   "metadata": {},
   "source": [
    "#### The Buckshot++ Algorithm  \n",
    "1. Take B bootstrap samples where each sample is of size 1/B.  \n",
    "2. For each K from 2 to F do:  \n",
    "        2a. Pass parameter K into kmeans computation.  \n",
    "        2b. Compute the metric M.\n",
    "3. Compute the centroid of all metrics vectors.  \n",
    "4. Output: argmax of the centroid vector.        "
   ]
  },
  {
   "cell_type": "markdown",
   "metadata": {},
   "source": [
    "#### Implementation & Empirical Discoveries\n",
    "Having given the background and the concept of Buckshot++, let's see how I implemented the algorithm. In the cell below, I import the [Kaggle News Aggregator Dataset](https://www.kaggle.com/uciml/news-aggregator-dataset) that I will use to illustrate my algorithm. In this data, there's a field that contains news headlines and another field that holds an ID indicating which story a headline belongs to. "
   ]
  },
  {
   "cell_type": "code",
   "execution_count": null,
   "metadata": {
    "collapsed": false
   },
   "outputs": [],
   "source": [
    "if __name__ == \"__main__\":\n",
    "    # Pass in settings to instantiate a Clusterings object called vecSpaceMod1:\n",
    "    vecSpaceMod = Clusterings({'file_loc': sys.path[0] + '/Input/newsSample.csv',\n",
    "                               'tf_dampen': True,\n",
    "                               'common_word_pct': 1,\n",
    "                               'rare_word_pct': 1,\n",
    "                               'dim_redu': False})\n",
    "    news_df = vecSpaceMod.get_file() # Read CSV input to data frame."
   ]
  },
  {
   "cell_type": "code",
   "execution_count": null,
   "metadata": {
    "collapsed": false
   },
   "outputs": [],
   "source": [
    "    # Repeatedly run kmeans on resamples, compute the silhouette and calinski metrics for each K that I plug in.  \n",
    "    metrics_byK = vecSpaceMod.buckshot(news_df)        "
   ]
  },
  {
   "cell_type": "markdown",
   "metadata": {},
   "source": [
    "#### Bagging *does* make sense here!\n",
    "Each green curve is generated from a bootstrap sample, and the red curve is their average. Remember the sources of instability for k-means listed in Table 1? One instability is outlier. The concept of outlier has a somewhat different meaning in the context of clustering. In supervised learning, an outlier is a rare observation that happens to be far from other observations. In clustering, a far away observation is its own well-separated cluster. So my interpretation is that \"rare\" is the operative word here and that outliers are singleton clusters that exert undue influence on the formation of other clusters. Look at how [bagging](https://en.wikipedia.org/wiki/Bootstrap_aggregating) imparted a more stable estimate of the relationship between the number of clusters and the silhouette score in the graph below."
   ]
  },
  {
   "cell_type": "code",
   "execution_count": null,
   "metadata": {
    "collapsed": false
   },
   "outputs": [],
   "source": [
    "    plot_mult_samples(metrics_byK, 'silhouette')"
   ]
  },
  {
   "cell_type": "markdown",
   "metadata": {},
   "source": [
    "#### Useful and not-so-useful internal clustering metrics currently out there.\n",
    "The two internal clustering metrics implemented in scikit-learn are: the Silhouette Coefficient and the Calinski-Harabasz criterion. Comparing the Silhouette plotted above with the Calinski plotted below, it's clear that Silhouette is clearly better."
   ]
  },
  {
   "cell_type": "code",
   "execution_count": null,
   "metadata": {
    "collapsed": false
   },
   "outputs": [],
   "source": [
    "    plot_mult_samples(metrics_byK, 'calinski')"
   ]
  },
  {
   "cell_type": "code",
   "execution_count": null,
   "metadata": {
    "collapsed": true
   },
   "outputs": [],
   "source": [
    "    X = vecSpaceMod.term_weight_matr(news_df.TITLE)\n",
    "    kmeans_fit = KMeans(20).fit(X)"
   ]
  },
  {
   "cell_type": "markdown",
   "metadata": {},
   "source": [
    "#### Are the quality of the clusters good?\n",
    "Taking a look at the documents and their corresponding \"predictedCluster\", the results certainly do impress!"
   ]
  },
  {
   "cell_type": "code",
   "execution_count": null,
   "metadata": {
    "collapsed": false
   },
   "outputs": [],
   "source": [
    "    cluster_results = DataFrame({'predictedCluster': kmeans_fit.labels_,\n",
    "                                 'document': news_df.TITLE})\n",
    "    cluster_results.sort_values(by='predictedCluster', inplace=True)\n",
    "    cluster_results"
   ]
  },
  {
   "cell_type": "markdown",
   "metadata": {},
   "source": [
    "#### Internal or External Clustering Metrics?\n",
    "With the ground truth labels, we can evaluate Mutual Information, which is the most commonly used external metric. Looking at 0.67 Mutual Information compared with about 0.35 Silhouette, the relationship between the metrics is fairly consistent with other studies."
   ]
  },
  {
   "cell_type": "code",
   "execution_count": null,
   "metadata": {
    "collapsed": false
   },
   "outputs": [],
   "source": [
    "    mutual_info = adjusted_mutual_info_score(labels_true=news_df.STORY, labels_pred=kmeans_fit.labels_) \n",
    "    print(mutual_info)"
   ]
  },
  {
   "cell_type": "markdown",
   "metadata": {},
   "source": [
    "#### Buckshot++ Scales Better Than Buckshot.\n",
    "The fact is that hierarchical clustering has a much higher order of time complexity than k-means. This means that, for sizable inputs, running k-means multiple times is still faster than running hierarchical clustering just once. The Buckshot algorithm runs hierarchical just once on a small sample in order to initialize cluster centers for k-means. Since O(N^2 * logN) grows really fast, the sample must be really small to make it work computationally. But a key critique of Buckshot is [failure to find the right structure with a small sample](http://citeseerx.ist.psu.edu/viewdoc/download?doi=10.1.1.136.7906&rep=rep1&type=pdf).  "
   ]
  },
  {
   "cell_type": "markdown",
   "metadata": {},
   "source": [
    "#### The Selling Points of Buckshot++\n",
    "* **Extremely accurate** method of estimating the number of clusters (a clearly best Silhouette emerged every time, while hill climbing searches can hit or miss).\n",
    "* **Highly scalable** (faster search for K achieved by using k-means rather than hierarchical; running k-means on subsample rather than everything).\n",
    "* **Robust to noise** when used in conjunction with k-means++ (sampling with replacement lessens the chance of selecting an outlier in the bootstrap sample)."
   ]
  }
 ],
 "metadata": {
  "kernelspec": {
   "display_name": "Python 3",
   "language": "python",
   "name": "python3"
  },
  "language_info": {
   "codemirror_mode": {
    "name": "ipython",
    "version": 3
   },
   "file_extension": ".py",
   "mimetype": "text/x-python",
   "name": "python",
   "nbconvert_exporter": "python",
   "pygments_lexer": "ipython3",
   "version": "3.6.5"
  }
 },
 "nbformat": 4,
 "nbformat_minor": 2
}
