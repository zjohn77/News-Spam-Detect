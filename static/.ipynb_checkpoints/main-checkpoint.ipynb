{
 "cells": [
  {
   "cell_type": "markdown",
   "metadata": {},
   "source": [
    "### Buckshot++: A Scalable, Noise-Tolerant Bagging Approach to  Clustering.  \n",
    "Despite the k-means algorithm being one of the most important unsupervised learning methods today, the Achilles' heel of this algorithm is the need to determine beforehand the number of clusters. A common way to find K is like this: take some metric, evaluate at multiple values of K, and let some greedy search determine when to stop (typically elbow heuristic). Here, I show a better way. I introduce 3 improvements:   \n",
    "1. I show that some metrics are powerful, while others are too inconsistent to be useful\n",
    "2. A big problem with k-means is that every single point is clustered--but what we really want is the pattern and not the noise. I show a beautiful way to solve this problem--and much simpler than k-medoids and k-medians to boot. \n",
    "3. Running k-means multiple times to find the best K is expensive in computation time, and just doesn't scale. I show a surprisingly simple alternative that *does* scale. "
   ]
  },
  {
   "cell_type": "code",
   "execution_count": null,
   "metadata": {
    "collapsed": true
   },
   "outputs": [],
   "source": [
    "'''A Scalable, Noise-Tolerant Bagging approach to the Buckshot Algorithm.\n",
    "Reference to the original buckshot algorithm (https://pdfs.semanticscholar.org/1134/3448f8a817fa391e3a7897a95f975ad2873a.pdf)\n",
    "Author: John Jung'''"
   ]
  },
  {
   "cell_type": "code",
   "execution_count": 1,
   "metadata": {
    "collapsed": true
   },
   "outputs": [],
   "source": [
    "from numpy.random import choice\n",
    "from pandas import read_csv, DataFrame\n",
    "from sklearn.cluster import KMeans\n",
    "from sklearn.metrics import adjusted_mutual_info_score\n",
    "import matplotlib.pyplot as plt\n",
    "from functools import reduce\n",
    "import os, sys\n",
    "sys.path.insert(0, '/home/jz/proj/News-Spam-Detect/TxtClus')\n",
    "from baggedBuckshot import Clusterings"
   ]
  },
  {
   "cell_type": "code",
   "execution_count": 2,
   "metadata": {
    "collapsed": false
   },
   "outputs": [],
   "source": [
    "def plot_mult_samples(listOf_df, row_name):     \n",
    "    '''For each bootstrap iteration, plot metrics across K''' \n",
    "    for i in range(len(listOf_df)):\n",
    "        plt.plot(list(listOf_df[i].columns), list(listOf_df[i].loc[row_name,:]), c=\"green\")  \n",
    "    \n",
    "    # Use the reduce function to do elementwise average for several data frames:\n",
    "    avg_metrics = reduce(lambda df1, df2: df1.add(df2), listOf_df).div(len(listOf_df))        \n",
    "    plt.plot(list(avg_metrics.columns), list(avg_metrics.loc[row_name,:]), c=\"red\")    \n",
    "    plt.ylabel(row_name + ' score')   \n",
    "    plt.xlabel('no. of clusters')        \n",
    "    plt.show()            "
   ]
  },
  {
   "cell_type": "markdown",
   "metadata": {},
   "source": [
    "#### Background\n",
    "The novel algorithm that I will explain here, which hereinafter I will call Buckshot++, is motivated by the [Pedersen et al.](https://pdfs.semanticscholar.org/1134/3448f8a817fa391e3a7897a95f975ad2873a.pdf) paper. The essence of the Buckshot algorithm outline in that paper is to find cluster centers by performing hierarchical clustering on a sample and then perform k-means by taking those cluster centers as input. Table 1 below explains why the Buckshot algorithm takes this approach:"
   ]
  },
  {
   "cell_type": "code",
   "execution_count": 5,
   "metadata": {
    "collapsed": false
   },
   "outputs": [
    {
     "name": "stdout",
     "output_type": "stream",
     "text": [
      "Table 1\n"
     ]
    },
    {
     "data": {
      "text/html": [
       "<div>\n",
       "<table border=\"1\" class=\"dataframe\">\n",
       "  <thead>\n",
       "    <tr style=\"text-align: right;\">\n",
       "      <th></th>\n",
       "      <th>hierarchical</th>\n",
       "      <th>k-means</th>\n",
       "    </tr>\n",
       "  </thead>\n",
       "  <tbody>\n",
       "    <tr>\n",
       "      <th>Computational Complexity</th>\n",
       "      <td>O(N^2 * logN)</td>\n",
       "      <td>O(N * k * d * i)</td>\n",
       "    </tr>\n",
       "    <tr>\n",
       "      <th>Sources of Instability</th>\n",
       "      <td>outlier</td>\n",
       "      <td>random initial means; local minimum; outlier</td>\n",
       "    </tr>\n",
       "  </tbody>\n",
       "</table>\n",
       "</div>"
      ],
      "text/plain": [
       "                           hierarchical  \\\n",
       "Computational Complexity  O(N^2 * logN)   \n",
       "Sources of Instability          outlier   \n",
       "\n",
       "                                                               k-means  \n",
       "Computational Complexity                              O(N * k * d * i)  \n",
       "Sources of Instability    random initial means; local minimum; outlier  "
      ]
     },
     "execution_count": 5,
     "metadata": {},
     "output_type": "execute_result"
    }
   ],
   "source": [
    "print('Table 1')\n",
    "tbl = DataFrame({'k-means': ['O(N * k * d * i)', 'random initial means; local minimum; outlier'],\n",
    "                 'hierarchical': ['O(N^2 * logN)', 'outlier']}\n",
    "                , index=['Computational Complexity', 'Sources of Instability'])\n",
    "tbl"
   ]
  },
  {
   "cell_type": "markdown",
   "metadata": {},
   "source": [
    "The shockingly high time complexity of hierarchical clustering is why the Buckshot algorithm performs hierarchical only on a sample. Let's look at what Buckshot++ is and how it simultaneously tackles scalability and stability issues.  "
   ]
  },
  {
   "cell_type": "markdown",
   "metadata": {},
   "source": [
    "#### The Buckshot++ Algorithm  \n",
    "1. Take B bootstrap samples where each sample is of size 1/B.  \n",
    "2. For each K from 2 to F do:  \n",
    "        2a. Pass parameter K into kmeans computation.  \n",
    "        2b. Compute the metric M.\n",
    "3. Compute the centroid of all metrics vectors.  \n",
    "4. Output: argmax of the centroid vector.        "
   ]
  },
  {
   "cell_type": "markdown",
   "metadata": {},
   "source": [
    "#### Implementation & Empirical Discoveries\n",
    "Having given the background and the concept of Buckshot++, let's see how I implemented the algorithm. In the cell below, I import the [Kaggle News Aggregator Dataset](https://www.kaggle.com/uciml/news-aggregator-dataset) that I will use to illustrate my algorithm. In this data, there's a field that contains news headlines and another field that holds an ID indicating which story a headline belongs to. "
   ]
  },
  {
   "cell_type": "code",
   "execution_count": 3,
   "metadata": {
    "collapsed": false
   },
   "outputs": [],
   "source": [
    "if __name__ == \"__main__\":\n",
    "    # Pass in settings to instantiate a Clusterings object called vecSpaceMod1:\n",
    "    vecSpaceMod = Clusterings({'file_loc': sys.path[0] + '/Input/newsSample.csv',\n",
    "                               'tf_dampen': True,\n",
    "                               'common_word_pct': 1,\n",
    "                               'rare_word_pct': 1,\n",
    "                               'dim_redu': False})\n",
    "    news_df = vecSpaceMod.get_file() # Read CSV input to data frame."
   ]
  },
  {
   "cell_type": "code",
   "execution_count": 12,
   "metadata": {
    "collapsed": false
   },
   "outputs": [],
   "source": [
    "    # Repeatedly run kmeans on resamples, compute the silhouette and calinski metrics for each K that I plug in.  \n",
    "    metrics_byK = vecSpaceMod.buckshot(news_df)        "
   ]
  },
  {
   "cell_type": "markdown",
   "metadata": {},
   "source": [
    "#### Bagging *does* make sense here!\n",
    "Each green curve is generated from a bootstrap sample, and the red curve is their average. Remember the sources of instability for k-means listed in Table 1? One instability is outlier. The concept of outlier has a somewhat different meaning in the context of clustering. In supervised learning, an outlier is a rare observation that happens to be far from other observations. In clustering, a far away observation is its own well-separated cluster. So my interpretation is that \"rare\" is the operative word here and that outliers are singleton clusters that exert undue influence on the formation of other clusters. Look at how [bagging](https://en.wikipedia.org/wiki/Bootstrap_aggregating) imparted a more stable estimate of the relationship between the number of clusters and the silhouette score in the graph below."
   ]
  },
  {
   "cell_type": "code",
   "execution_count": 13,
   "metadata": {
    "collapsed": false
   },
   "outputs": [
    {
     "data": {
      "image/png": "[encoded data removed]",
      "text/plain": [
       "<matplotlib.figure.Figure at 0x7f67ce863b70>"
      ]
     },
     "metadata": {},
     "output_type": "display_data"
    }
   ],
   "source": [
    "    plot_mult_samples(metrics_byK, 'silhouette')"
   ]
  },
  {
   "cell_type": "markdown",
   "metadata": {},
   "source": [
    "#### Useful and not-so-useful internal clustering metrics currently out there.\n",
    "The two internal clustering metrics implemented in scikit-learn are: the Silhouette Coefficient and the Calinski-Harabasz criterion. Comparing the Silhouette plotted above with the Calinski plotted below, it's clear that Silhouette is clearly better."
   ]
  },
  {
   "cell_type": "code",
   "execution_count": 14,
   "metadata": {
    "collapsed": false
   },
   "outputs": [
    {
     "data": {
      "image/png": "[encoded data removed]",
      "text/plain": [
       "<matplotlib.figure.Figure at 0x7f67ce92e4a8>"
      ]
     },
     "metadata": {},
     "output_type": "display_data"
    }
   ],
   "source": [
    "    plot_mult_samples(metrics_byK, 'calinski')"
   ]
  },
  {
   "cell_type": "code",
   "execution_count": 15,
   "metadata": {
    "collapsed": true
   },
   "outputs": [],
   "source": [
    "    X = vecSpaceMod.term_weight_matr(news_df.TITLE)\n",
    "    kmeans_fit = KMeans(20).fit(X)"
   ]
  },
  {
   "cell_type": "markdown",
   "metadata": {},
   "source": [
    "#### Are the quality of the clusters good?\n",
    "Taking a look at the documents and their corresponding \"predictedCluster\", the results certainly do impress!"
   ]
  },
  {
   "cell_type": "code",
   "execution_count": 16,
   "metadata": {
    "collapsed": false
   },
   "outputs": [
    {
     "data": {
      "text/html": [
       "<div>\n",
       "<table border=\"1\" class=\"dataframe\">\n",
       "  <thead>\n",
       "    <tr style=\"text-align: right;\">\n",
       "      <th></th>\n",
       "      <th>document</th>\n",
       "      <th>predictedCluster</th>\n",
       "    </tr>\n",
       "  </thead>\n",
       "  <tbody>\n",
       "    <tr>\n",
       "      <th>21</th>\n",
       "      <td>Boulder's Wealth May Be A Factor For Lowest Ob...</td>\n",
       "      <td>0</td>\n",
       "    </tr>\n",
       "    <tr>\n",
       "      <th>26</th>\n",
       "      <td>Virginia's Governor Challenges Abortion Clinic...</td>\n",
       "      <td>0</td>\n",
       "    </tr>\n",
       "    <tr>\n",
       "      <th>82</th>\n",
       "      <td>The Least Obese City in the Country</td>\n",
       "      <td>0</td>\n",
       "    </tr>\n",
       "    <tr>\n",
       "      <th>23</th>\n",
       "      <td>Fine Tuning: Good Wife just gets better</td>\n",
       "      <td>0</td>\n",
       "    </tr>\n",
       "    <tr>\n",
       "      <th>50</th>\n",
       "      <td>Zebra Technologies to Acquire Enterprise Busin...</td>\n",
       "      <td>0</td>\n",
       "    </tr>\n",
       "    <tr>\n",
       "      <th>35</th>\n",
       "      <td>Second Twitter exec resigns with goodbye tweet...</td>\n",
       "      <td>1</td>\n",
       "    </tr>\n",
       "    <tr>\n",
       "      <th>76</th>\n",
       "      <td>Ali Rowghani, Twitter's COO, resigns after mon...</td>\n",
       "      <td>1</td>\n",
       "    </tr>\n",
       "    <tr>\n",
       "      <th>49</th>\n",
       "      <td>Twitter COO Ali Rowghani Just Announced Via Tw...</td>\n",
       "      <td>1</td>\n",
       "    </tr>\n",
       "    <tr>\n",
       "      <th>13</th>\n",
       "      <td>Twitter COO Ali Rowghani Exits</td>\n",
       "      <td>1</td>\n",
       "    </tr>\n",
       "    <tr>\n",
       "      <th>57</th>\n",
       "      <td>'Goodbye Twitter' COO Ali Rowghani, says bye t...</td>\n",
       "      <td>1</td>\n",
       "    </tr>\n",
       "    <tr>\n",
       "      <th>36</th>\n",
       "      <td>Weiner reflects on the beginning of the end of...</td>\n",
       "      <td>2</td>\n",
       "    </tr>\n",
       "    <tr>\n",
       "      <th>37</th>\n",
       "      <td>TV Review: Mad Men Season 7</td>\n",
       "      <td>2</td>\n",
       "    </tr>\n",
       "    <tr>\n",
       "      <th>0</th>\n",
       "      <td>'Mad Men' Preview: Buckle Up For 7 'Dense' Epi...</td>\n",
       "      <td>2</td>\n",
       "    </tr>\n",
       "    <tr>\n",
       "      <th>63</th>\n",
       "      <td>Fargo (FX) Season Finale 2014 âMorton's Forkâ</td>\n",
       "      <td>2</td>\n",
       "    </tr>\n",
       "    <tr>\n",
       "      <th>65</th>\n",
       "      <td>'Fargo' Season 1 Spoilers: Episode 10 Synopsis...</td>\n",
       "      <td>2</td>\n",
       "    </tr>\n",
       "    <tr>\n",
       "      <th>70</th>\n",
       "      <td>10 Things You Never Knew About 'Mad Men'!</td>\n",
       "      <td>2</td>\n",
       "    </tr>\n",
       "    <tr>\n",
       "      <th>72</th>\n",
       "      <td>Rich Sommer from AMC's 'Mad Men' Season Premiere</td>\n",
       "      <td>2</td>\n",
       "    </tr>\n",
       "    <tr>\n",
       "      <th>77</th>\n",
       "      <td>Why Fargo Works So Well as a TV Show</td>\n",
       "      <td>2</td>\n",
       "    </tr>\n",
       "    <tr>\n",
       "      <th>84</th>\n",
       "      <td>'Mad Men' takes off on its final flight</td>\n",
       "      <td>2</td>\n",
       "    </tr>\n",
       "    <tr>\n",
       "      <th>53</th>\n",
       "      <td>'Mad Men' Season 7 Spoilers: Everything We Kno...</td>\n",
       "      <td>2</td>\n",
       "    </tr>\n",
       "    <tr>\n",
       "      <th>56</th>\n",
       "      <td>Before 'Fargo's' season finale, a sequel (or p...</td>\n",
       "      <td>2</td>\n",
       "    </tr>\n",
       "    <tr>\n",
       "      <th>46</th>\n",
       "      <td>'Mad Men': Season 7 Premiere Guide (Video)</td>\n",
       "      <td>2</td>\n",
       "    </tr>\n",
       "    <tr>\n",
       "      <th>9</th>\n",
       "      <td>Mad Men - the (Blaxploitation) Movie</td>\n",
       "      <td>2</td>\n",
       "    </tr>\n",
       "    <tr>\n",
       "      <th>3</th>\n",
       "      <td>'Mad Men' mixology</td>\n",
       "      <td>2</td>\n",
       "    </tr>\n",
       "    <tr>\n",
       "      <th>4</th>\n",
       "      <td>'Mad Men' end in sight for Weiner</td>\n",
       "      <td>2</td>\n",
       "    </tr>\n",
       "    <tr>\n",
       "      <th>5</th>\n",
       "      <td>'Mad Men': 7 things to know for Season 7</td>\n",
       "      <td>2</td>\n",
       "    </tr>\n",
       "    <tr>\n",
       "      <th>2</th>\n",
       "      <td>Rising carbon dioxide levels reduce nutrients ...</td>\n",
       "      <td>3</td>\n",
       "    </tr>\n",
       "    <tr>\n",
       "      <th>80</th>\n",
       "      <td>Nutrition in Crops Are Cut down Drastically by...</td>\n",
       "      <td>3</td>\n",
       "    </tr>\n",
       "    <tr>\n",
       "      <th>75</th>\n",
       "      <td>Rising CO2 Levels Will Lower Nutritional Value...</td>\n",
       "      <td>3</td>\n",
       "    </tr>\n",
       "    <tr>\n",
       "      <th>68</th>\n",
       "      <td>With carbon dioxide levels up, nutrients in cr...</td>\n",
       "      <td>3</td>\n",
       "    </tr>\n",
       "    <tr>\n",
       "      <th>...</th>\n",
       "      <td>...</td>\n",
       "      <td>...</td>\n",
       "    </tr>\n",
       "    <tr>\n",
       "      <th>64</th>\n",
       "      <td>Inflation back up: Modest rise to 1.8% in Apri...</td>\n",
       "      <td>12</td>\n",
       "    </tr>\n",
       "    <tr>\n",
       "      <th>55</th>\n",
       "      <td>UK Inflation Rise To 1.8% Delays Real Wage Ris...</td>\n",
       "      <td>12</td>\n",
       "    </tr>\n",
       "    <tr>\n",
       "      <th>43</th>\n",
       "      <td>Inflation rise stalls wage hopes in the UK</td>\n",
       "      <td>12</td>\n",
       "    </tr>\n",
       "    <tr>\n",
       "      <th>44</th>\n",
       "      <td>UK CPI rises to 1.8% in April, core CPI hits 2%</td>\n",
       "      <td>12</td>\n",
       "    </tr>\n",
       "    <tr>\n",
       "      <th>51</th>\n",
       "      <td>BREAKING NEWS: Transport costs lead to hike in...</td>\n",
       "      <td>12</td>\n",
       "    </tr>\n",
       "    <tr>\n",
       "      <th>59</th>\n",
       "      <td>Twitter's head of media Chloe Sladden steps do...</td>\n",
       "      <td>13</td>\n",
       "    </tr>\n",
       "    <tr>\n",
       "      <th>28</th>\n",
       "      <td>Twitter's revolving door: media head Chloe Sla...</td>\n",
       "      <td>13</td>\n",
       "    </tr>\n",
       "    <tr>\n",
       "      <th>12</th>\n",
       "      <td>Twitter Exec Exodus Continues with Media Chief...</td>\n",
       "      <td>13</td>\n",
       "    </tr>\n",
       "    <tr>\n",
       "      <th>90</th>\n",
       "      <td>Sony Xperia Z4 Concept Emerges as Fan Imagines...</td>\n",
       "      <td>14</td>\n",
       "    </tr>\n",
       "    <tr>\n",
       "      <th>78</th>\n",
       "      <td>If you hate the word 'selfie' look away now, t...</td>\n",
       "      <td>14</td>\n",
       "    </tr>\n",
       "    <tr>\n",
       "      <th>30</th>\n",
       "      <td>Leaked: Images Of Sony's Xperia C3 'Selfie Phone'</td>\n",
       "      <td>14</td>\n",
       "    </tr>\n",
       "    <tr>\n",
       "      <th>67</th>\n",
       "      <td>Sony Xperia C3 arrives with 5MP selfie camera,...</td>\n",
       "      <td>14</td>\n",
       "    </tr>\n",
       "    <tr>\n",
       "      <th>45</th>\n",
       "      <td>Sony Xperia Z2 Encased In A Block Of Ice, Cont...</td>\n",
       "      <td>14</td>\n",
       "    </tr>\n",
       "    <tr>\n",
       "      <th>40</th>\n",
       "      <td>GM June Sales Up 9 Percent, Best June Since 2007</td>\n",
       "      <td>15</td>\n",
       "    </tr>\n",
       "    <tr>\n",
       "      <th>79</th>\n",
       "      <td>Despite Safety Issues, GM's Sales Still Increa...</td>\n",
       "      <td>15</td>\n",
       "    </tr>\n",
       "    <tr>\n",
       "      <th>17</th>\n",
       "      <td>Chrysler Group LLC reports June 2014 US sales ...</td>\n",
       "      <td>15</td>\n",
       "    </tr>\n",
       "    <tr>\n",
       "      <th>34</th>\n",
       "      <td>Net-a-Porter Embraces Google Glass</td>\n",
       "      <td>16</td>\n",
       "    </tr>\n",
       "    <tr>\n",
       "      <th>89</th>\n",
       "      <td>Google Glass Still Trying To Look Cool</td>\n",
       "      <td>16</td>\n",
       "    </tr>\n",
       "    <tr>\n",
       "      <th>62</th>\n",
       "      <td>Google Glass headsets get new designs in colla...</td>\n",
       "      <td>16</td>\n",
       "    </tr>\n",
       "    <tr>\n",
       "      <th>41</th>\n",
       "      <td>Google's first fashionable Glass frames are de...</td>\n",
       "      <td>16</td>\n",
       "    </tr>\n",
       "    <tr>\n",
       "      <th>1</th>\n",
       "      <td>Here's How Climate Change Will Make Food Less ...</td>\n",
       "      <td>17</td>\n",
       "    </tr>\n",
       "    <tr>\n",
       "      <th>39</th>\n",
       "      <td>Why almost everything you've been told about u...</td>\n",
       "      <td>17</td>\n",
       "    </tr>\n",
       "    <tr>\n",
       "      <th>81</th>\n",
       "      <td>Rising CO2 levels also make our food less nutr...</td>\n",
       "      <td>17</td>\n",
       "    </tr>\n",
       "    <tr>\n",
       "      <th>24</th>\n",
       "      <td>UPDATE 5-JPMorgan profit weaker than expected ...</td>\n",
       "      <td>18</td>\n",
       "    </tr>\n",
       "    <tr>\n",
       "      <th>33</th>\n",
       "      <td>Marks and Spencer's profits fall for third year</td>\n",
       "      <td>18</td>\n",
       "    </tr>\n",
       "    <tr>\n",
       "      <th>29</th>\n",
       "      <td>JPMorgan profit weaker than expected</td>\n",
       "      <td>18</td>\n",
       "    </tr>\n",
       "    <tr>\n",
       "      <th>58</th>\n",
       "      <td>Technology stocks falling for 2nd day in a row</td>\n",
       "      <td>18</td>\n",
       "    </tr>\n",
       "    <tr>\n",
       "      <th>48</th>\n",
       "      <td>Microsoft wants Windows XP dead and has announ...</td>\n",
       "      <td>19</td>\n",
       "    </tr>\n",
       "    <tr>\n",
       "      <th>18</th>\n",
       "      <td>Gov. McAuliffe Makes Health Announcements</td>\n",
       "      <td>19</td>\n",
       "    </tr>\n",
       "    <tr>\n",
       "      <th>74</th>\n",
       "      <td>McAuliffe puts focus on women's health</td>\n",
       "      <td>19</td>\n",
       "    </tr>\n",
       "  </tbody>\n",
       "</table>\n",
       "<p>93 rows × 2 columns</p>\n",
       "</div>"
      ],
      "text/plain": [
       "                                             document  predictedCluster\n",
       "21  Boulder's Wealth May Be A Factor For Lowest Ob...                 0\n",
       "26  Virginia's Governor Challenges Abortion Clinic...                 0\n",
       "82                The Least Obese City in the Country                 0\n",
       "23            Fine Tuning: Good Wife just gets better                 0\n",
       "50  Zebra Technologies to Acquire Enterprise Busin...                 0\n",
       "35  Second Twitter exec resigns with goodbye tweet...                 1\n",
       "76  Ali Rowghani, Twitter's COO, resigns after mon...                 1\n",
       "49  Twitter COO Ali Rowghani Just Announced Via Tw...                 1\n",
       "13                     Twitter COO Ali Rowghani Exits                 1\n",
       "57  'Goodbye Twitter' COO Ali Rowghani, says bye t...                 1\n",
       "36  Weiner reflects on the beginning of the end of...                 2\n",
       "37                        TV Review: Mad Men Season 7                 2\n",
       "0   'Mad Men' Preview: Buckle Up For 7 'Dense' Epi...                 2\n",
       "63  Fargo (FX) Season Finale 2014 âMorton's Forkâ                 2\n",
       "65  'Fargo' Season 1 Spoilers: Episode 10 Synopsis...                 2\n",
       "70          10 Things You Never Knew About 'Mad Men'!                 2\n",
       "72   Rich Sommer from AMC's 'Mad Men' Season Premiere                 2\n",
       "77               Why Fargo Works So Well as a TV Show                 2\n",
       "84            'Mad Men' takes off on its final flight                 2\n",
       "53  'Mad Men' Season 7 Spoilers: Everything We Kno...                 2\n",
       "56  Before 'Fargo's' season finale, a sequel (or p...                 2\n",
       "46         'Mad Men': Season 7 Premiere Guide (Video)                 2\n",
       "9                Mad Men - the (Blaxploitation) Movie                 2\n",
       "3                                  'Mad Men' mixology                 2\n",
       "4                   'Mad Men' end in sight for Weiner                 2\n",
       "5            'Mad Men': 7 things to know for Season 7                 2\n",
       "2   Rising carbon dioxide levels reduce nutrients ...                 3\n",
       "80  Nutrition in Crops Are Cut down Drastically by...                 3\n",
       "75  Rising CO2 Levels Will Lower Nutritional Value...                 3\n",
       "68  With carbon dioxide levels up, nutrients in cr...                 3\n",
       "..                                                ...               ...\n",
       "64  Inflation back up: Modest rise to 1.8% in Apri...                12\n",
       "55  UK Inflation Rise To 1.8% Delays Real Wage Ris...                12\n",
       "43         Inflation rise stalls wage hopes in the UK                12\n",
       "44    UK CPI rises to 1.8% in April, core CPI hits 2%                12\n",
       "51  BREAKING NEWS: Transport costs lead to hike in...                12\n",
       "59  Twitter's head of media Chloe Sladden steps do...                13\n",
       "28  Twitter's revolving door: media head Chloe Sla...                13\n",
       "12  Twitter Exec Exodus Continues with Media Chief...                13\n",
       "90  Sony Xperia Z4 Concept Emerges as Fan Imagines...                14\n",
       "78  If you hate the word 'selfie' look away now, t...                14\n",
       "30  Leaked: Images Of Sony's Xperia C3 'Selfie Phone'                14\n",
       "67  Sony Xperia C3 arrives with 5MP selfie camera,...                14\n",
       "45  Sony Xperia Z2 Encased In A Block Of Ice, Cont...                14\n",
       "40   GM June Sales Up 9 Percent, Best June Since 2007                15\n",
       "79  Despite Safety Issues, GM's Sales Still Increa...                15\n",
       "17  Chrysler Group LLC reports June 2014 US sales ...                15\n",
       "34                 Net-a-Porter Embraces Google Glass                16\n",
       "89             Google Glass Still Trying To Look Cool                16\n",
       "62  Google Glass headsets get new designs in colla...                16\n",
       "41  Google's first fashionable Glass frames are de...                16\n",
       "1   Here's How Climate Change Will Make Food Less ...                17\n",
       "39  Why almost everything you've been told about u...                17\n",
       "81  Rising CO2 levels also make our food less nutr...                17\n",
       "24  UPDATE 5-JPMorgan profit weaker than expected ...                18\n",
       "33    Marks and Spencer's profits fall for third year                18\n",
       "29               JPMorgan profit weaker than expected                18\n",
       "58     Technology stocks falling for 2nd day in a row                18\n",
       "48  Microsoft wants Windows XP dead and has announ...                19\n",
       "18          Gov. McAuliffe Makes Health Announcements                19\n",
       "74             McAuliffe puts focus on women's health                19\n",
       "\n",
       "[93 rows x 2 columns]"
      ]
     },
     "execution_count": 16,
     "metadata": {},
     "output_type": "execute_result"
    }
   ],
   "source": [
    "    cluster_results = DataFrame({'predictedCluster': kmeans_fit.labels_,\n",
    "                                 'document': news_df.TITLE})\n",
    "    cluster_results.sort_values(by='predictedCluster', inplace=True)\n",
    "    cluster_results"
   ]
  },
  {
   "cell_type": "markdown",
   "metadata": {},
   "source": [
    "#### Internal or External Clustering Metrics?\n",
    "With the ground truth labels, we can evaluate Mutual Information, which is the most commonly used external metric. Looking at 0.67 Mutual Information compared with about 0.35 Silhouette, the relationship between the metrics is fairly consistent with other studies."
   ]
  },
  {
   "cell_type": "code",
   "execution_count": 17,
   "metadata": {
    "collapsed": false
   },
   "outputs": [
    {
     "name": "stdout",
     "output_type": "stream",
     "text": [
      "0.668634947446\n"
     ]
    }
   ],
   "source": [
    "    mutual_info = adjusted_mutual_info_score(labels_true=news_df.STORY, labels_pred=kmeans_fit.labels_) \n",
    "    print(mutual_info)"
   ]
  },
  {
   "cell_type": "markdown",
   "metadata": {},
   "source": [
    "#### Buckshot++ Scales Better Than Buckshot.\n",
    "The fact is that hierarchical clustering has a much higher order of time complexity than k-means. This means that, for sizable inputs, running k-means multiple times is still faster than running hierarchical clustering just once. The Buckshot algorithm runs hierarchical just once on a small sample in order to initialize cluster centers for k-means. Since O(N^2 * logN) grows really fast, the sample must be really small to make it work computationally. But a key critique of Buckshot is [failure to find the right structure with a small sample](http://citeseerx.ist.psu.edu/viewdoc/download?doi=10.1.1.136.7906&rep=rep1&type=pdf).  "
   ]
  },
  {
   "cell_type": "markdown",
   "metadata": {},
   "source": [
    "#### The Selling Points of Buckshot++\n",
    "* **Extremely accurate** method of estimating the number of clusters (a clearly best Silhouette emerged every time, while hill climbing searches can hit or miss).\n",
    "* **Highly scalable** (faster search for K achieved by using k-means rather than hierarchical; running k-means on subsample rather than everything).\n",
    "* **Robust to noise** when used in conjunction with k-means++ (sampling with replacement lessens the chance of selecting an outlier in the bootstrap sample)."
   ]
  }
 ],
 "metadata": {
  "kernelspec": {
   "display_name": "Python 3",
   "language": "python",
   "name": "python3"
  },
  "language_info": {
   "codemirror_mode": {
    "name": "ipython",
    "version": 3
   },
   "file_extension": ".py",
   "mimetype": "text/x-python",
   "name": "python",
   "nbconvert_exporter": "python",
   "pygments_lexer": "ipython3",
   "version": "3.5.2"
  }
 },
 "nbformat": 4,
 "nbformat_minor": 0
}
